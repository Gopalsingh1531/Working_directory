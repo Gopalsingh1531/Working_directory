{
 "cells": [
  {
   "cell_type": "markdown",
   "id": "15c67618",
   "metadata": {},
   "source": [
    "# Assignment : Python Basics [19th Aug]\n",
    "##### - [Python Basics Variable](#1)\n",
    "   - [1. Declare two variables, `x` and `y`, and assign them integer values. Swap the values of these variables without using any temporary variable.](#1.1)\n",
    "   - [2. Create a program that calculates the area of a rectangle. Take the length and width as inputs from the user and store them in variables. Calculate and display the area.](#1.2)\n",
    "   - [3. Write a Python program that converts temperatures from Celsius to Fahrenheit. Take the temperature in Celsius as input, store it in a variable, convert it to Fahrenheit, and display the result](#1.3)\n",
    "##### - [String Based Questions](#2)\n",
    "   - [1. Write a Python program that takes a string as input and prints the length of the string.](#2.1)\n",
    "   - [2. Create a program that takes a sentence from the user and counts the number of vowels (a, e, i, o, u) in the string.](#2.2)\n",
    "   - [3. Given a string, reverse the order of characters using string slicing and print the reversed string.](#2.3)\n",
    "   - [4. Write a program that takes a string as input and checks if it is a palindrome (reads the same forwards and backwards).](#2.4)\n",
    "   - [5. Create a program that takes a string as input and removes all the spaces from it. Print the modified string without spaces.](#2.5)"
   ]
  },
  {
   "cell_type": "markdown",
   "id": "0bcbefef",
   "metadata": {},
   "source": [
    "<a id=\"1\"><h2>Python Basics Variable</h2></a>"
   ]
  },
  {
   "cell_type": "markdown",
   "id": "82100970",
   "metadata": {},
   "source": [
    "<a id=\"1.1\"><h4>1. Declare two variables, `x` and `y`, and assign them integer values. Swap the values of these variables without using any temporary variable.</h4></a>"
   ]
  },
  {
   "cell_type": "code",
   "execution_count": 19,
   "id": "3d9c9743",
   "metadata": {},
   "outputs": [
    {
     "name": "stdout",
     "output_type": "stream",
     "text": [
      "1 2\n",
      "2 1\n"
     ]
    }
   ],
   "source": [
    "# Decalring the variables\n",
    "a = 1\n",
    "b = 2\n",
    "\n",
    "# Print the input\n",
    "print(a,b)\n",
    "\n",
    "# Swapping the variables by cross assigning method\n",
    "a,b = b,a\n",
    "\n",
    "# Print the result\n",
    "print(a,b)"
   ]
  },
  {
   "cell_type": "markdown",
   "id": "da992616",
   "metadata": {},
   "source": [
    "<a id=\"1.2\"><h4>2. Create a program that calculates the area of a rectangle(Length X Bredth). Take the length and width as inputs from the user and store them in variables. Calculate and display the area.</h4></a>"
   ]
  },
  {
   "cell_type": "code",
   "execution_count": 7,
   "id": "1c01921a",
   "metadata": {},
   "outputs": [
    {
     "name": "stdout",
     "output_type": "stream",
     "text": [
      "Enter the length of the rectangle: 2\n",
      "Enter the Bredth of the rectangle: 3\n",
      "The area of the rectangle of length 2 and width 3 is 6\n"
     ]
    }
   ],
   "source": [
    "# Declaring Variable and take input from user\n",
    "l = int(input(\"Enter the length of the rectangle: \"))\n",
    "b = int(input(\"Enter the Bredth of the rectangle: \"))\n",
    "\n",
    "# Print the result with format function\n",
    "print(\"The area of the rectangle of length {} and width {} is {}\".format(l,b,l*b))"
   ]
  },
  {
   "cell_type": "markdown",
   "id": "45e5861e",
   "metadata": {},
   "source": [
    "<a id=\"1.3\"><h4>3. Write a Python program that converts temperatures from Celsius to Fahrenheit. Take the temperature in Celsius as input, store it in a variable, convert it to Fahrenheit, and display the result</h4></a>"
   ]
  },
  {
   "cell_type": "markdown",
   "id": "b1e1b789",
   "metadata": {},
   "source": [
    "The formula for conversion of Celsius to Fehrenheit is : (celsius * 9/5) + 32"
   ]
  },
  {
   "cell_type": "code",
   "execution_count": 8,
   "id": "c024cc0c",
   "metadata": {},
   "outputs": [
    {
     "name": "stdout",
     "output_type": "stream",
     "text": [
      "Enter the temprature as input: 2\n",
      "2 degree Celsius is equals to 35.6 degree Fahrenheit.\n"
     ]
    }
   ],
   "source": [
    "# take Input from user and store it into variable\n",
    "celsius = int(input(\"Enter the temprature as input: \"))\n",
    "\n",
    "# write logic to convert celsius to fahrenheit\n",
    "fahrenheit = (celsius * 9/5) + 32\n",
    "print(\"{} degree Celsius is equals to {} degree Fahrenheit.\".format(celsius, fahrenheit))"
   ]
  },
  {
   "cell_type": "markdown",
   "id": "bde63e18",
   "metadata": {},
   "source": [
    "<a id=\"2\"><h2>String Based Questions</h2></a>"
   ]
  },
  {
   "cell_type": "markdown",
   "id": "2413ce63",
   "metadata": {},
   "source": [
    "<a id=\"1.3\"><h4><a id=\"2.1\"><h4>Write a Python program that takes a string as input and prints the length of the string. </h4></a></h4></a>"
   ]
  },
  {
   "cell_type": "code",
   "execution_count": 9,
   "id": "c6d1a1ba",
   "metadata": {},
   "outputs": [
    {
     "name": "stdout",
     "output_type": "stream",
     "text": [
      "Enter any String: this\n",
      "The length of the string you have entered is 4\n"
     ]
    }
   ],
   "source": [
    "# Taking string by user and store it to the variable\n",
    "string = input(\"Enter any String: \")\n",
    "\n",
    "# Printing the required result\n",
    "print(\"The length of the string you have entered is {}\".format(len(string)))"
   ]
  },
  {
   "cell_type": "markdown",
   "id": "8235431c",
   "metadata": {},
   "source": [
    "<a id=\"1.3\"><h4><a id=\"2.2\"><h4>Create a program that takes a sentence from the user and counts the number of vowels (a, e, i, o, u) in the string. </h4></a></h4></a>"
   ]
  },
  {
   "cell_type": "code",
   "execution_count": 10,
   "id": "e08ce274",
   "metadata": {},
   "outputs": [
    {
     "name": "stdout",
     "output_type": "stream",
     "text": [
      "Enter the sentence: thaeiou\n",
      "5\n"
     ]
    }
   ],
   "source": [
    "# Taking input by user in the string format\n",
    "sent = input(\"Enter the sentence: \")\n",
    "\n",
    "# assign a count variable initially at 0 to count the number of vowels\n",
    "count = 0\n",
    "\n",
    "# Initialize a loop for checking/validating that the word of the sentence is belongs to vowels list or not.\n",
    "for i in sent:\n",
    "    # if our condition is satisfies then add 1 to count variable\n",
    "    if i in ('a','e','i','o','u'):\n",
    "        count += 1\n",
    "print(count)"
   ]
  },
  {
   "cell_type": "markdown",
   "id": "e01eae18",
   "metadata": {},
   "source": [
    "<a id=\"1.3\"><h4><a id=\"2.3\"><h4>Given a string, reverse the order of characters using string slicing and print the reversed string. </h4></a></h4></a>"
   ]
  },
  {
   "cell_type": "code",
   "execution_count": 11,
   "id": "03f708b3",
   "metadata": {},
   "outputs": [
    {
     "name": "stdout",
     "output_type": "stream",
     "text": [
      "Enter any word: gopal\n",
      "lapog\n"
     ]
    }
   ],
   "source": [
    "# input any string by the user\n",
    "strng = input(\"Enter any word: \")\n",
    "\n",
    "# slice the string in reverse order like [0,-1,-2,-3.....]\n",
    "print(strng[::-1])"
   ]
  },
  {
   "cell_type": "markdown",
   "id": "11acb90a",
   "metadata": {},
   "source": [
    "<a id=\"1.3\"><h4><a id=\"2.4\"><h4>Write a program that takes a string as input and checks if it is a palindrome (reads the same forwards and backwards).] </h4></a></h4></a>"
   ]
  },
  {
   "cell_type": "code",
   "execution_count": 13,
   "id": "32c60dae",
   "metadata": {},
   "outputs": [
    {
     "name": "stdout",
     "output_type": "stream",
     "text": [
      "Enter any word: naman\n",
      "The string you've entered is Palindrome:\n"
     ]
    }
   ],
   "source": [
    "# input any string by the user\n",
    "strng = input(\"Enter any word: \")\n",
    "\n",
    "# check reverse slice string with string.\n",
    "if strng[::-1] == strng:\n",
    "    print(\"The string you've entered is Palindrome:\")\n",
    "else:\n",
    "    print(\"The string you've entered is not a Palindrome:\")"
   ]
  },
  {
   "cell_type": "markdown",
   "id": "a424e608",
   "metadata": {},
   "source": [
    "<a id=\"1.3\"><h4><a id=\"2.5\"><h4>Create a program that takes a string as input and removes all the spaces from it. Print the modified string without spaces. </h4></a></h4></a>"
   ]
  },
  {
   "cell_type": "code",
   "execution_count": 18,
   "id": "0d6b0d94",
   "metadata": {},
   "outputs": [
    {
     "name": "stdout",
     "output_type": "stream",
     "text": [
      "Enter anything: this is\n",
      "thisis\n"
     ]
    }
   ],
   "source": [
    "# input any string by the user\n",
    "strng = input(\"Enter anything: \")\n",
    "\n",
    "# here we use blank sring to store the splitted string. we use split function to split the string by spaces.\n",
    "print(\"\".join(strng.split()))"
   ]
  },
  {
   "cell_type": "code",
   "execution_count": null,
   "id": "c8877bf4",
   "metadata": {},
   "outputs": [],
   "source": []
  }
 ],
 "metadata": {
  "kernelspec": {
   "display_name": "Python 3 (ipykernel)",
   "language": "python",
   "name": "python3"
  },
  "language_info": {
   "codemirror_mode": {
    "name": "ipython",
    "version": 3
   },
   "file_extension": ".py",
   "mimetype": "text/x-python",
   "name": "python",
   "nbconvert_exporter": "python",
   "pygments_lexer": "ipython3",
   "version": "3.10.9"
  }
 },
 "nbformat": 4,
 "nbformat_minor": 5
}
